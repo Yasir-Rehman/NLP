{
  "nbformat": 4,
  "nbformat_minor": 0,
  "metadata": {
    "colab": {
      "name": "Training a Parts of speech tagger using NLTK tree bank data set.ipynb",
      "provenance": [],
      "collapsed_sections": [],
      "machine_shape": "hm"
    },
    "kernelspec": {
      "name": "python3",
      "display_name": "Python 3"
    },
    "accelerator": "GPU"
  },
  "cells": [
    {
      "cell_type": "code",
      "metadata": {
        "id": "RuYgPa4sNgsq",
        "colab_type": "code",
        "outputId": "760ad8bc-f6df-4f92-f692-a737706d7587",
        "colab": {
          "base_uri": "https://localhost:8080/",
          "height": 221
        }
      },
      "source": [
        "import nltk\n",
        "nltk.download('treebank')\n",
        "nltk.download('words')\n",
        "nltk.download('averaged_perceptron_tagger')\n",
        "nltk.download('universal_tagset')\n",
        "nltk.download('punkt')\n"
      ],
      "execution_count": 1,
      "outputs": [
        {
          "output_type": "stream",
          "text": [
            "[nltk_data] Downloading package treebank to /root/nltk_data...\n",
            "[nltk_data]   Unzipping corpora/treebank.zip.\n",
            "[nltk_data] Downloading package words to /root/nltk_data...\n",
            "[nltk_data]   Unzipping corpora/words.zip.\n",
            "[nltk_data] Downloading package averaged_perceptron_tagger to\n",
            "[nltk_data]     /root/nltk_data...\n",
            "[nltk_data]   Unzipping taggers/averaged_perceptron_tagger.zip.\n",
            "[nltk_data] Downloading package universal_tagset to /root/nltk_data...\n",
            "[nltk_data]   Unzipping taggers/universal_tagset.zip.\n",
            "[nltk_data] Downloading package punkt to /root/nltk_data...\n",
            "[nltk_data]   Unzipping tokenizers/punkt.zip.\n"
          ],
          "name": "stdout"
        },
        {
          "output_type": "execute_result",
          "data": {
            "text/plain": [
              "True"
            ]
          },
          "metadata": {
            "tags": []
          },
          "execution_count": 1
        }
      ]
    },
    {
      "cell_type": "code",
      "metadata": {
        "id": "U3a6LahaTSr2",
        "colab_type": "code",
        "colab": {}
      },
      "source": [
        "import nltk\n",
        "import numpy as np\n",
        "from nltk import word_tokenize\n",
        "import matplotlib.pyplot as plt\n",
        "%matplotlib inline \n",
        "from sklearn.feature_extraction import DictVectorizer\n",
        "from sklearn.model_selection import train_test_split\n",
        "from sklearn.ensemble import RandomForestClassifier\n",
        "from sklearn.metrics import accuracy_score,confusion_matrix"
      ],
      "execution_count": 0,
      "outputs": []
    },
    {
      "cell_type": "markdown",
      "metadata": {
        "id": "mxp7jqJpTZ6P",
        "colab_type": "text"
      },
      "source": [
        "**Training a Parts of speech tagger using NLTK tree bank data set**"
      ]
    },
    {
      "cell_type": "code",
      "metadata": {
        "id": "PrZxNlFmUjJu",
        "colab_type": "code",
        "colab": {}
      },
      "source": [
        "def sentence_feature(st,ix):\n",
        "  d_ft = {}\n",
        "  d_ft['word'] = st[ix]\n",
        "  d_ft['distance_from_first'] = ix - 0\n",
        "  d_ft['distance_from_last'] = len(st) - ix\n",
        "  d_ft['capitalize'] = st[ix][0].upper() == st[ix][0]\n",
        "  d_ft['prefix1'] = st[ix][0]\n",
        "  d_ft['prefix2'] = st[ix][:2]\n",
        "  d_ft['prefix3'] = st[ix][:3]\n",
        "  d_ft['suffix1'] = st[ix][-1]\n",
        "  d_ft['suffix2'] = st[ix][-2:]\n",
        "  d_ft['suffix3'] = st[ix][-3:]\n",
        "  d_ft['previous_word'] = '' if ix==0 else st[ix-1]\n",
        "  d_ft['next_word'] = '' if ix == (len(st)-1) else st[ix+1]\n",
        "  d_ft['numeric']  = st[ix].isdigit()\n",
        "  \n",
        "  \n",
        "  # print(d_ft.items())\n",
        "  return d_ft  "
      ],
      "execution_count": 0,
      "outputs": []
    },
    {
      "cell_type": "code",
      "metadata": {
        "id": "PUGpN39QWHUC",
        "colab_type": "code",
        "colab": {}
      },
      "source": [
        "def get_untagged_sentence(tagged_sentences):\n",
        "  [s,t] = zip(*tagged_sentences)\n",
        "  return list(s)"
      ],
      "execution_count": 0,
      "outputs": []
    },
    {
      "cell_type": "code",
      "metadata": {
        "id": "yJw1qaxCWjZR",
        "colab_type": "code",
        "outputId": "4a9a345d-9fb5-4298-e844-9e39a71abfbc",
        "colab": {
          "base_uri": "https://localhost:8080/",
          "height": 34
        }
      },
      "source": [
        "tagged_sentences = nltk.corpus.treebank.tagged_sents(tagset='universal')\n",
        "print(len(tagged_sentences))"
      ],
      "execution_count": 5,
      "outputs": [
        {
          "output_type": "stream",
          "text": [
            "3914\n"
          ],
          "name": "stdout"
        }
      ]
    },
    {
      "cell_type": "code",
      "metadata": {
        "id": "Mv26sGJeWuzV",
        "colab_type": "code",
        "colab": {}
      },
      "source": [
        "def ext_features(tg_sents):\n",
        "  sent,tag = [],[]\n",
        "  for tg in tg_sents:\n",
        "    for index in range(len(tg)):\n",
        "      sent.append(sentence_feature(get_untagged_sentence(tg),index))\n",
        "      tag.append(tg[index][1])\n",
        "  return sent,tag\n"
      ],
      "execution_count": 0,
      "outputs": []
    },
    {
      "cell_type": "code",
      "metadata": {
        "id": "ZQjR84OaYifT",
        "colab_type": "code",
        "colab": {}
      },
      "source": [
        "X,y = ext_features(tagged_sentences)\n"
      ],
      "execution_count": 0,
      "outputs": []
    },
    {
      "cell_type": "code",
      "metadata": {
        "id": "Ev_Jt6GJrno0",
        "colab_type": "code",
        "outputId": "f0ea2167-83aa-4a67-fde7-05ba94313d2a",
        "colab": {
          "base_uri": "https://localhost:8080/",
          "height": 54
        }
      },
      "source": [
        "print(X[:5])"
      ],
      "execution_count": 8,
      "outputs": [
        {
          "output_type": "stream",
          "text": [
            "[{'word': 'Pierre', 'distance_from_first': 0, 'distance_from_last': 18, 'capitalize': True, 'prefix1': 'P', 'prefix2': 'Pi', 'prefix3': 'Pie', 'suffix1': 'e', 'suffix2': 're', 'suffix3': 'rre', 'previous_word': '', 'next_word': 'Vinken', 'numeric': False}, {'word': 'Vinken', 'distance_from_first': 1, 'distance_from_last': 17, 'capitalize': True, 'prefix1': 'V', 'prefix2': 'Vi', 'prefix3': 'Vin', 'suffix1': 'n', 'suffix2': 'en', 'suffix3': 'ken', 'previous_word': 'Pierre', 'next_word': ',', 'numeric': False}, {'word': ',', 'distance_from_first': 2, 'distance_from_last': 16, 'capitalize': True, 'prefix1': ',', 'prefix2': ',', 'prefix3': ',', 'suffix1': ',', 'suffix2': ',', 'suffix3': ',', 'previous_word': 'Vinken', 'next_word': '61', 'numeric': False}, {'word': '61', 'distance_from_first': 3, 'distance_from_last': 15, 'capitalize': True, 'prefix1': '6', 'prefix2': '61', 'prefix3': '61', 'suffix1': '1', 'suffix2': '61', 'suffix3': '61', 'previous_word': ',', 'next_word': 'years', 'numeric': True}, {'word': 'years', 'distance_from_first': 4, 'distance_from_last': 14, 'capitalize': False, 'prefix1': 'y', 'prefix2': 'ye', 'prefix3': 'yea', 'suffix1': 's', 'suffix2': 'rs', 'suffix3': 'ars', 'previous_word': '61', 'next_word': 'old', 'numeric': False}]\n"
          ],
          "name": "stdout"
        }
      ]
    },
    {
      "cell_type": "code",
      "metadata": {
        "id": "hAyyoUQjXuiL",
        "colab_type": "code",
        "colab": {}
      },
      "source": [
        "n_sample = 10000\n",
        "dict_vectorizer = DictVectorizer(sparse=False)\n",
        "X_transformed = dict_vectorizer.fit_transform(X[0:n_sample])\n",
        "y_sampled = y[:n_sample]"
      ],
      "execution_count": 0,
      "outputs": []
    },
    {
      "cell_type": "code",
      "metadata": {
        "id": "MQ4ONZ1Fr5e3",
        "colab_type": "code",
        "colab": {}
      },
      "source": [
        "# import sys\n",
        "# np.set_printoptions(threshold=sys.maxsize)\n",
        "# print(X_transformed[:1,:],'\\n',X_transformed[:1,:].shape)\n",
        "# print(X[1])\n"
      ],
      "execution_count": 0,
      "outputs": []
    },
    {
      "cell_type": "code",
      "metadata": {
        "id": "xP7Beq8oXx7w",
        "colab_type": "code",
        "colab": {}
      },
      "source": [
        "X_train,X_test,y_train,y_test = train_test_split(X_transformed,y_sampled,test_size=0.2,random_state=123)"
      ],
      "execution_count": 0,
      "outputs": []
    },
    {
      "cell_type": "code",
      "metadata": {
        "id": "ARK3zLxvLJrL",
        "colab_type": "code",
        "outputId": "4c60c9f6-f030-4e05-8090-a377e5582340",
        "colab": {
          "base_uri": "https://localhost:8080/",
          "height": 170
        }
      },
      "source": [
        "rf = RandomForestClassifier(n_jobs=4)\n",
        "rf.fit(X_train,y_train)"
      ],
      "execution_count": 12,
      "outputs": [
        {
          "output_type": "stream",
          "text": [
            "/usr/local/lib/python3.6/dist-packages/sklearn/ensemble/forest.py:245: FutureWarning: The default value of n_estimators will change from 10 in version 0.20 to 100 in 0.22.\n",
            "  \"10 in version 0.20 to 100 in 0.22.\", FutureWarning)\n"
          ],
          "name": "stderr"
        },
        {
          "output_type": "execute_result",
          "data": {
            "text/plain": [
              "RandomForestClassifier(bootstrap=True, class_weight=None, criterion='gini',\n",
              "                       max_depth=None, max_features='auto', max_leaf_nodes=None,\n",
              "                       min_impurity_decrease=0.0, min_impurity_split=None,\n",
              "                       min_samples_leaf=1, min_samples_split=2,\n",
              "                       min_weight_fraction_leaf=0.0, n_estimators=10, n_jobs=4,\n",
              "                       oob_score=False, random_state=None, verbose=0,\n",
              "                       warm_start=False)"
            ]
          },
          "metadata": {
            "tags": []
          },
          "execution_count": 12
        }
      ]
    },
    {
      "cell_type": "code",
      "metadata": {
        "id": "F2WIkAXMNwA4",
        "colab_type": "code",
        "colab": {}
      },
      "source": [
        "def predict_pos_tags(sentence):\n",
        "  tagged_sentence = []\n",
        "  features = [sentence_feature(sentence,index) for index in range(len(sentence))]\n",
        "  features = dict_vectorizer.transform(features)\n",
        "  tags = rf.predict(features)\n",
        "  return zip(sentence,tags)"
      ],
      "execution_count": 0,
      "outputs": []
    },
    {
      "cell_type": "code",
      "metadata": {
        "id": "XPEyw574nnw-",
        "colab_type": "code",
        "outputId": "f6bb3c6f-b245-4f0b-afd0-3a56d32acaf0",
        "colab": {
          "base_uri": "https://localhost:8080/",
          "height": 119
        }
      },
      "source": [
        "test_sentence = 'This is a simple POS tagger'\n",
        "for tagged in predict_pos_tags(test_sentence.split()):\n",
        "  print(tagged)\n",
        "# print(predict_pos_tags(test_sentence.split()))"
      ],
      "execution_count": 14,
      "outputs": [
        {
          "output_type": "stream",
          "text": [
            "('This', 'DET')\n",
            "('is', 'VERB')\n",
            "('a', 'DET')\n",
            "('simple', 'ADJ')\n",
            "('POS', 'NOUN')\n",
            "('tagger', 'NOUN')\n"
          ],
          "name": "stdout"
        }
      ]
    },
    {
      "cell_type": "code",
      "metadata": {
        "id": "UjGAZdz2n12C",
        "colab_type": "code",
        "colab": {}
      },
      "source": [
        "predictions = rf.predict(X_test)"
      ],
      "execution_count": 0,
      "outputs": []
    },
    {
      "cell_type": "code",
      "metadata": {
        "id": "8sAjeMJhpjvU",
        "colab_type": "code",
        "outputId": "3d148495-ace0-4443-a13b-0d4f54f7ddbd",
        "colab": {
          "base_uri": "https://localhost:8080/",
          "height": 34
        }
      },
      "source": [
        "accuracy_score(y_test,predictions)"
      ],
      "execution_count": 16,
      "outputs": [
        {
          "output_type": "execute_result",
          "data": {
            "text/plain": [
              "0.9245"
            ]
          },
          "metadata": {
            "tags": []
          },
          "execution_count": 16
        }
      ]
    },
    {
      "cell_type": "code",
      "metadata": {
        "id": "NHKVPqeopnVG",
        "colab_type": "code",
        "colab": {}
      },
      "source": [
        "cm = confusion_matrix(y_test,predictions)"
      ],
      "execution_count": 0,
      "outputs": []
    },
    {
      "cell_type": "code",
      "metadata": {
        "id": "ieEZU5HRptP6",
        "colab_type": "code",
        "outputId": "69847c1b-41d0-406a-98eb-34bc208a8263",
        "colab": {
          "base_uri": "https://localhost:8080/",
          "height": 597
        }
      },
      "source": [
        "plt.figure(figsize=(10,10))\n",
        "plt.xticks(np.arange(len(rf.classes_)),rf.classes_)\n",
        "plt.yticks(np.arange(len(rf.classes_)),rf.classes_)\n",
        "plt.imshow(cm,cmap=plt.cm.Blues)\n",
        "plt.colorbar()"
      ],
      "execution_count": 18,
      "outputs": [
        {
          "output_type": "execute_result",
          "data": {
            "text/plain": [
              "<matplotlib.colorbar.Colorbar at 0x7fa8c6ae3f28>"
            ]
          },
          "metadata": {
            "tags": []
          },
          "execution_count": 18
        },
        {
          "output_type": "display_data",
          "data": {
            "image/png": "[encoded data removed]",
            "text/plain": [
              "<Figure size 720x720 with 2 Axes>"
            ]
          },
          "metadata": {
            "tags": []
          }
        }
      ]
    },
    {
      "cell_type": "code",
      "metadata": {
        "id": "WqzmFJQmqIzf",
        "colab_type": "code",
        "outputId": "ae225953-03c1-49df-c834-4772ad656a92",
        "colab": {
          "base_uri": "https://localhost:8080/",
          "height": 54
        }
      },
      "source": [
        "feature_list = zip(dict_vectorizer.get_feature_names(),rf.feature_importances_)\n",
        "sorted_features = sorted(feature_list,key = lambda x:x[1],reverse=True)\n",
        "print(sorted_features[:20])\n",
        "# print(len(sorted_features))"
      ],
      "execution_count": 19,
      "outputs": [
        {
          "output_type": "stream",
          "text": [
            "[('prefix1=*', 0.0217159529847135), ('capitalize', 0.01942914814914855), ('prefix2=th', 0.01663034881259659), ('prefix3=,', 0.01638916034063961), ('suffix3=the', 0.014796020078517625), ('suffix3=.', 0.013389568218370576), ('suffix2=he', 0.013186873003408723), ('suffix1=d', 0.011747099301799189), ('prefix3=the', 0.010970958072888549), ('suffix1=,', 0.010654251709035733), ('suffix1=s', 0.010142094372125737), ('distance_from_first', 0.010119912092066773), ('word=.', 0.009650665929257759), ('numeric', 0.009473314250658107), ('prefix2=,', 0.009358083259992893), ('distance_from_last', 0.009145033101091663), ('prefix2=.', 0.008897025329875486), ('word=of', 0.008311687799943923), ('prefix2=to', 0.007461294066222072), ('suffix2=-1', 0.006399994554332078)]\n"
          ],
          "name": "stdout"
        }
      ]
    },
    {
      "cell_type": "code",
      "metadata": {
        "id": "EAHPT0K4qpxo",
        "colab_type": "code",
        "colab": {}
      },
      "source": [
        ""
      ],
      "execution_count": 0,
      "outputs": []
    }
  ]
}